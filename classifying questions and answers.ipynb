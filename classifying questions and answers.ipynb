{
 "cells": [
  {
   "cell_type": "code",
   "execution_count": 1,
   "metadata": {
    "collapsed": true
   },
   "outputs": [],
   "source": [
    "import csv"
   ]
  },
  {
   "cell_type": "code",
   "execution_count": 3,
   "metadata": {},
   "outputs": [],
   "source": [
    "astr_evals = []\n",
    "with open('./evals/ASTR-EVALS.csv') as csvfile:\n",
    "    reader = csv.reader(csvfile)\n",
    "    for row in reader:\n",
    "        astr_evals.append(row)"
   ]
  },
  {
   "cell_type": "code",
   "execution_count": 5,
   "metadata": {},
   "outputs": [],
   "source": [
    "import re"
   ]
  },
  {
   "cell_type": "code",
   "execution_count": 76,
   "metadata": {},
   "outputs": [],
   "source": [
    "astr_instructor = re.compile(\"\\nInstructor\\(s\\): (.*)\\n\")"
   ]
  },
  {
   "cell_type": "code",
   "execution_count": 80,
   "metadata": {},
   "outputs": [
    {
     "data": {
      "text/plain": [
       "'Gnedin, Nickolay'"
      ]
     },
     "execution_count": 80,
     "metadata": {},
     "output_type": "execute_result"
    }
   ],
   "source": [
    "astr_instructor.search(astr_evals[1][1]).group(1)"
   ]
  },
  {
   "cell_type": "code",
   "execution_count": 84,
   "metadata": {},
   "outputs": [],
   "source": [
    "astr_instructor_list = []\n",
    "for i in range(len(astr_evals)):\n",
    "    instructor = astr_instructor.search(astr_evals[i][1]).group(1)\n",
    "    astr_instructor_list.append(instructor)"
   ]
  },
  {
   "cell_type": "code",
   "execution_count": 85,
   "metadata": {},
   "outputs": [
    {
     "data": {
      "text/plain": [
       "['Hu, Wayne',\n",
       " 'Gnedin, Nickolay',\n",
       " 'Gnedin, Nickolay',\n",
       " 'Carlstrom, John',\n",
       " 'Hu, Wayne',\n",
       " 'Kravtsov, Andrey',\n",
       " 'Hu, Wayne; Kibblewhite, Edward J',\n",
       " 'Gnedin, Nickolay',\n",
       " 'Kron, Richard G',\n",
       " 'Gnedin, Nickolay',\n",
       " 'Gnedin, Nickolay',\n",
       " 'Bean, Jacob Lyle',\n",
       " 'Khokhlov, Alexei',\n",
       " 'Gnedin, Nickolay',\n",
       " 'Turner, Michael',\n",
       " 'Turner, Michael',\n",
       " 'Hu, Wayne; Privitera, Paolo',\n",
       " 'Hu, Wayne; Privitera, Paolo',\n",
       " 'Carlstrom, John; Rosner, Robert',\n",
       " 'Konigl, Arieh',\n",
       " 'Olinto, Angela V',\n",
       " 'Turner, Michael',\n",
       " 'Lamb Jr, Donald Q',\n",
       " 'Harper, Doyal Al',\n",
       " 'Harper, Doyal Al',\n",
       " 'Gnedin, Nickolay',\n",
       " 'Gnedin, Nickolay',\n",
       " 'Caprioli, Damiano',\n",
       " 'Olinto, Angela V',\n",
       " 'Olinto, Angela V',\n",
       " 'Chen, Hsiao-Wen',\n",
       " 'Hu, Wayne',\n",
       " 'Turner, Michael; Privitera, Paolo',\n",
       " 'Harper, Doyal Al',\n",
       " 'Hu, Wayne',\n",
       " 'Dodelson, Scott',\n",
       " 'Kravtsov, Andrey; Chen, Hsiao-Wen',\n",
       " 'Fabrycky, Daniel Clark',\n",
       " 'Konigl, Arieh']"
      ]
     },
     "execution_count": 85,
     "metadata": {},
     "output_type": "execute_result"
    }
   ],
   "source": [
    "astr_instructor_list"
   ]
  },
  {
   "cell_type": "code",
   "execution_count": 100,
   "metadata": {},
   "outputs": [],
   "source": [
    "lol = astr_evals[11][1].split(\"\\n\")"
   ]
  },
  {
   "cell_type": "code",
   "execution_count": 101,
   "metadata": {},
   "outputs": [
    {
     "data": {
      "text/plain": [
       "['Skip to main content',\n",
       " 'College Course Evaluations',\n",
       " 'The University of Chicago',\n",
       " 'ASTR 28200: Special Topics (Exoplanets)',\n",
       " 'Section 01 - Spring 2013',\n",
       " 'Instructor(s): Bean, Jacob Lyle',\n",
       " 'Number Enrolled: 13',\n",
       " 'Number of Responses: 8',\n",
       " 'Evaluation Comments',\n",
       " \"What were the instructor's strengths? Weaknesses?\",\n",
       " \"Professor Bean was simply one of the best teachers I've had at this school so far. He was passionate about the subject, talked about the awesome implications and cool details of exoplanets without getting too bogged down in the nitty-gritty, and overall just made the class really enjoyable along with being extremely informative. The homework assignments were unique in all the physics courses I've taken before in that they weren't just problem sets and math, but really emphasized what it was actually like to analyze data that exoplanet researchers were working with, and this really appealed to me.\",\n",
       " \"He was an interesting teacher, and he got the class engaged in the subject matter. This was his first time teaching the class it seems though, and it showed. In the beginning all the assignments were fairly easy, but by the end of the quarter the assignments became very difficult and required a statistics and programming background which many of the students didn't have.\",\n",
       " 'Strengths: Clear and well-focused lectures, great at knowing what level of difficulty is appropriate, very responsive to student feedback, captivating Weaknesses: Dance moves could use work.',\n",
       " \"Jacob Bean's lectures were interesting and he was always enthusiastic about the topic. However, he could have presented clearer lectures on some of the more difficult concepts.\",\n",
       " 'Professor Bean was phenomenal. He had energy and a passion for the material that easily came through in his presentation. He was very approachable and made the subject easy to understand. Professor Bean was hilarious and greatly bolstered my interest in studying exoplanets. No weaknesses.',\n",
       " 'Good lecturer, good visuals. Very enthusiastic, clear about content of exams.',\n",
       " \"What were the teaching assistant's or writing intern's strengths? Weaknesses?\",\n",
       " 'Laura was a great TA, always available to help answer questions, hold review session, and go over homework.',\n",
       " 'The TA was good. Most of my interactions with her were to get help on the assignments and she did a pretty good job explaining.',\n",
       " 'Laura Kreidberg was so amazingly helpful with this course I doubt I would have made it through without her. She provided clear and seemingly magical help with programming and other extraneous skills needed as well as helpfully summarized and clarified any and all points from lecture before each test. She graded super fairly and included constructive feedback for each assignment in a timely manner.',\n",
       " 'Laura was helpful with the assignments.',\n",
       " 'Laura was excellent as well. She had great chemistry with Professor Bean and was always available for homework help. She contributed to lecture and set up review sessions that were very helpful. No weaknesses.',\n",
       " 'Laura was great, she provided a lot of essential help to people struggling with programming and prepared us well for exams.',\n",
       " 'What, if anything, what would you change about this course and why?',\n",
       " \"The only thing I would change about this course are the prerequisites listed in the course catalogue; it seemed like the homework assignments required a fairly decent amount of programming experience, in python for example, which physics majors are not officially introduced to until 211, which is taken in the third year. As a third year I didn't have a problem with this, but I feel like a year, or two years ago I would have found the assignments really difficult.\",\n",
       " 'This course should have a programming prerequisite. For one of the assignments I had to learn Python because it was impossible to do by other means (excel etc.), and that was really inconvenient. They should either require that you know a programming language that can do graphing, or teach the class how to write the code they need.',\n",
       " 'I would change the projector.',\n",
       " 'Add a chalk site. Have readings that are less esoteric and at a more appropriate level for the course.',\n",
       " \"I would not change a thing. There was a great balance of homework, project, exam, and lecture. The material never felt too difficult and the professor's approach to the class was wonderful.\",\n",
       " 'Make the programming component known--I and several others were taken by surprise and struggled with assignments.',\n",
       " 'Is there any topic in this course that you wished you had had previous background in?',\n",
       " 'Having knowledge of python or IDL, as well as LaTeX would definitely give you a leg up.',\n",
       " 'Comp Sci related stuff Statistics',\n",
       " 'Computer programming background strongly recommended.',\n",
       " 'More coding.',\n",
       " 'None, though first year physics and some basic astronomy knowledge is very helpful.',\n",
       " 'Programming',\n",
       " 'Which texts were most useful?',\n",
       " 'Exoplanets',\n",
       " 'Everything from the text was summarized much more concisely through the lectures.',\n",
       " 'some of the astrophysics papers',\n",
       " 'Exoplanets by Seager. It was more of a reference than a textbook for the class.',\n",
       " 'Only one text, exoplanets, useful for equations and more technical than the course required. A good text though I think',\n",
       " 'Which least?',\n",
       " 'there was only one textbook',\n",
       " 'The textbook got really complicated at times.',\n",
       " 'None.',\n",
       " 'No other text',\n",
       " 'How productive was class discussion?',\n",
       " \"Our class didn't really have 'discussion', but his lectures often involved class participation and were humorous. This helped us to stay awake and pay attention to the material.\",\n",
       " 'As productive as you can hope for from a science class.',\n",
       " \"There wasn't too much discussion, but questions were encouraged.\",\n",
       " 'Class discussion was fruitful. It was mainly lecture from the professor but contributions from students added a useful additional layer.',\n",
       " 'Class was lively but there was no discussion',\n",
       " 'How has this course contributed to your education?',\n",
       " 'I now know lots of in depth information about what some scientists are working on in the frontiers of Astronomy.',\n",
       " 'Broadened my knowledge of astrophysics.',\n",
       " 'Why did you take this course?',\n",
       " 'Core requirement',\n",
       " '0 / 0%',\n",
       " 'Instructor Reputation',\n",
       " '0 / 0%',\n",
       " 'Faculty member recommended it',\n",
       " '0 / 0%',\n",
       " 'Concentration Requirement',\n",
       " '0 / 0%',\n",
       " 'Meets at a convenient time',\n",
       " '0 / 0%',\n",
       " 'A student recommended it',\n",
       " '0 / 0%',\n",
       " 'Topic interests me',\n",
       " '0 / 0%',\n",
       " 'Concentration elective',\n",
       " '0 / 0%',\n",
       " 'In summary, I had a strong desire to take this course',\n",
       " 'Strongly Agree',\n",
       " '7 / 88%',\n",
       " 'Agree',\n",
       " '0 / 0%',\n",
       " 'Neutral',\n",
       " '0 / 0%',\n",
       " 'Disagree',\n",
       " '0 / 0%',\n",
       " 'Strongly Disagree',\n",
       " '0 / 0%',\n",
       " 'How many hours per week did you spend on this course?',\n",
       " 'Low Answer 5',\n",
       " 'Average Answer 7',\n",
       " 'High Answer 9',\n",
       " 'What proportion of classes did you attend?',\n",
       " 'All',\n",
       " '8 / 100%',\n",
       " '75%',\n",
       " '0 / 0%',\n",
       " '50%',\n",
       " '0 / 0%',\n",
       " '25%',\n",
       " '0 / 0%',\n",
       " 'None',\n",
       " '0 / 0%',\n",
       " 'Were the time demands of this course reasonable?',\n",
       " 'Yes',\n",
       " '8 / 100%',\n",
       " 'No',\n",
       " '0 / 0%',\n",
       " 'The Instructor',\n",
       " '  N/A Strongly Disagree Disagree Neutral Agree Strongly Agree',\n",
       " 'Organized the course clearly. 0% 0% 0% 0% 25% 75%',\n",
       " 'Presented clear lectures. 0% 0% 0% 13% 0% 88%',\n",
       " 'Held my attention and made this course interesting. 0% 0% 0% 0% 13% 88%',\n",
       " 'Stimulated and facilitated questions and discussions. 0% 0% 0% 13% 13% 75%',\n",
       " 'Responded well to student questions. 0% 0% 0% 0% 13% 88%',\n",
       " 'Was available outside of class. 13% 0% 0% 13% 0% 88%',\n",
       " 'Was helpful during office hours. 63% 0% 0% 0% 0% 38%',\n",
       " 'Motivated independent thinking. 0% 0% 0% 0% 13% 88%',\n",
       " 'The Readings',\n",
       " '  N/A Strongly Disagree Disagree Neutral Agree Strongly Agree',\n",
       " 'Fulfilled the objective of the course. 0% 0% 0% 25% 13% 63%',\n",
       " 'Were reasonable in number. 0% 0% 13% 13% 38% 38%',\n",
       " 'Were appropriately difficult. 0% 0% 25% 25% 38% 13%',\n",
       " 'Approximately how much of the reading did you do?',\n",
       " '  N/A None 25% 50% 75% 100%',\n",
       " '0% 0% 0% 0% 25% 13%',\n",
       " 'The Assignments',\n",
       " '  N/A Strongly Disagree Disagree Neutral Agree Strongly Agree',\n",
       " 'How helpful were the lectures and discussions in preparing for exams and completing assignments? 0% 0% 0% 13% 38% 50%',\n",
       " 'How appropriately were the requirements of the course proportioned to course goals? 0% 0% 13% 13% 13% 63%',\n",
       " 'How well did the requirements contribute to the goals of the course? 0% 0% 0% 25% 13% 63%',\n",
       " 'How timely and useful was feedback on assignments and exams? 0% 0% 0% 0% 13% 88%',\n",
       " 'How fairly were the assignments graded? 0% 0% 0% 0% 25% 75%',\n",
       " 'Overall',\n",
       " '  N/A Strongly Disagree Disagree Neutral Agree Strongly Agree',\n",
       " 'This course met my expectations. 0% 0% 0% 13% 13% 75%',\n",
       " 'This course provided me with new insight and knowledge. 0% 0% 0% 0% 13% 88%',\n",
       " 'This course provided me with useful skills. 0% 0% 0% 0% 13% 88%',\n",
       " 'The content of this course was presented at an appropriate level. 0% 0% 0% 13% 25% 63%',\n",
       " 'I put my best effort into this course. 0% 0% 0% 0% 13% 88%',\n",
       " 'The class had a high level of morale/enthusiasm. 0% 0% 0% 0% 25% 75%',\n",
       " 'The Teaching Assistant(s)',\n",
       " '  N/A Strongly Disagree Disagree Neutral Agree Strongly Agree',\n",
       " 'Were available outside of class. 0% 0% 0% 0% 13% 88%',\n",
       " 'Were helpful with assignments. 0% 0% 0% 0% 13% 88%',\n",
       " 'Discussion Sections, Problem Sessions, Writing Tutorials',\n",
       " '  N/A Strongly Disagree Disagree Neutral Agree Strongly Agree',\n",
       " 'Were well coordinated with this course and contributed to it. 63% 0% 0% 0% 0% 25%',\n",
       " 'Provided well-designed materials. 63% 0% 0% 0% 0% 25%',\n",
       " '  © The University of Chicago',\n",
       " 'Class Schedules and Registration',\n",
       " '5801 South Ellis',\n",
       " 'Chicago, IL 60637',\n",
       " '773.702.1234']"
      ]
     },
     "execution_count": 101,
     "metadata": {},
     "output_type": "execute_result"
    }
   ],
   "source": [
    "lol"
   ]
  },
  {
   "cell_type": "code",
   "execution_count": 109,
   "metadata": {
    "collapsed": true
   },
   "outputs": [],
   "source": [
    "question_list = [\"What were the instructor's strengths? Weaknesses?\", \"What were the teaching assistant's or writing intern's strengths? Weaknesses?\", 'What, if anything, what would you change about this course and why?']"
   ]
  },
  {
   "cell_type": "code",
   "execution_count": 111,
   "metadata": {},
   "outputs": [
    {
     "name": "stdout",
     "output_type": "stream",
     "text": [
      "What were the instructor's strengths? Weaknesses?\n",
      "What were the teaching assistant's or writing intern's strengths? Weaknesses?\n",
      "What, if anything, what would you change about this course and why?\n"
     ]
    }
   ],
   "source": [
    "response_dict = {}\n",
    "for i in range(len(lol)):\n",
    "    line = lol[i]\n",
    "    if line in question_list:\n",
    "        question = line\n",
    "        print(question)\n",
    "        response_dict[question] = []\n",
    "    if line not in question_list:\n",
    "        if len(response_dict) > 0:\n",
    "            response_dict[question].append(line)"
   ]
  },
  {
   "cell_type": "code",
   "execution_count": 112,
   "metadata": {},
   "outputs": [
    {
     "data": {
      "text/plain": [
       "{\"What were the instructor's strengths? Weaknesses?\": [\"Professor Bean was simply one of the best teachers I've had at this school so far. He was passionate about the subject, talked about the awesome implications and cool details of exoplanets without getting too bogged down in the nitty-gritty, and overall just made the class really enjoyable along with being extremely informative. The homework assignments were unique in all the physics courses I've taken before in that they weren't just problem sets and math, but really emphasized what it was actually like to analyze data that exoplanet researchers were working with, and this really appealed to me.\",\n",
       "  \"He was an interesting teacher, and he got the class engaged in the subject matter. This was his first time teaching the class it seems though, and it showed. In the beginning all the assignments were fairly easy, but by the end of the quarter the assignments became very difficult and required a statistics and programming background which many of the students didn't have.\",\n",
       "  'Strengths: Clear and well-focused lectures, great at knowing what level of difficulty is appropriate, very responsive to student feedback, captivating Weaknesses: Dance moves could use work.',\n",
       "  \"Jacob Bean's lectures were interesting and he was always enthusiastic about the topic. However, he could have presented clearer lectures on some of the more difficult concepts.\",\n",
       "  'Professor Bean was phenomenal. He had energy and a passion for the material that easily came through in his presentation. He was very approachable and made the subject easy to understand. Professor Bean was hilarious and greatly bolstered my interest in studying exoplanets. No weaknesses.',\n",
       "  'Good lecturer, good visuals. Very enthusiastic, clear about content of exams.'],\n",
       " \"What were the teaching assistant's or writing intern's strengths? Weaknesses?\": ['Laura was a great TA, always available to help answer questions, hold review session, and go over homework.',\n",
       "  'The TA was good. Most of my interactions with her were to get help on the assignments and she did a pretty good job explaining.',\n",
       "  'Laura Kreidberg was so amazingly helpful with this course I doubt I would have made it through without her. She provided clear and seemingly magical help with programming and other extraneous skills needed as well as helpfully summarized and clarified any and all points from lecture before each test. She graded super fairly and included constructive feedback for each assignment in a timely manner.',\n",
       "  'Laura was helpful with the assignments.',\n",
       "  'Laura was excellent as well. She had great chemistry with Professor Bean and was always available for homework help. She contributed to lecture and set up review sessions that were very helpful. No weaknesses.',\n",
       "  'Laura was great, she provided a lot of essential help to people struggling with programming and prepared us well for exams.'],\n",
       " 'What, if anything, what would you change about this course and why?': [\"The only thing I would change about this course are the prerequisites listed in the course catalogue; it seemed like the homework assignments required a fairly decent amount of programming experience, in python for example, which physics majors are not officially introduced to until 211, which is taken in the third year. As a third year I didn't have a problem with this, but I feel like a year, or two years ago I would have found the assignments really difficult.\",\n",
       "  'This course should have a programming prerequisite. For one of the assignments I had to learn Python because it was impossible to do by other means (excel etc.), and that was really inconvenient. They should either require that you know a programming language that can do graphing, or teach the class how to write the code they need.',\n",
       "  'I would change the projector.',\n",
       "  'Add a chalk site. Have readings that are less esoteric and at a more appropriate level for the course.',\n",
       "  \"I would not change a thing. There was a great balance of homework, project, exam, and lecture. The material never felt too difficult and the professor's approach to the class was wonderful.\",\n",
       "  'Make the programming component known--I and several others were taken by surprise and struggled with assignments.',\n",
       "  'Is there any topic in this course that you wished you had had previous background in?',\n",
       "  'Having knowledge of python or IDL, as well as LaTeX would definitely give you a leg up.',\n",
       "  'Comp Sci related stuff Statistics',\n",
       "  'Computer programming background strongly recommended.',\n",
       "  'More coding.',\n",
       "  'None, though first year physics and some basic astronomy knowledge is very helpful.',\n",
       "  'Programming',\n",
       "  'Which texts were most useful?',\n",
       "  'Exoplanets',\n",
       "  'Everything from the text was summarized much more concisely through the lectures.',\n",
       "  'some of the astrophysics papers',\n",
       "  'Exoplanets by Seager. It was more of a reference than a textbook for the class.',\n",
       "  'Only one text, exoplanets, useful for equations and more technical than the course required. A good text though I think',\n",
       "  'Which least?',\n",
       "  'there was only one textbook',\n",
       "  'The textbook got really complicated at times.',\n",
       "  'None.',\n",
       "  'No other text',\n",
       "  'How productive was class discussion?',\n",
       "  \"Our class didn't really have 'discussion', but his lectures often involved class participation and were humorous. This helped us to stay awake and pay attention to the material.\",\n",
       "  'As productive as you can hope for from a science class.',\n",
       "  \"There wasn't too much discussion, but questions were encouraged.\",\n",
       "  'Class discussion was fruitful. It was mainly lecture from the professor but contributions from students added a useful additional layer.',\n",
       "  'Class was lively but there was no discussion',\n",
       "  'How has this course contributed to your education?',\n",
       "  'I now know lots of in depth information about what some scientists are working on in the frontiers of Astronomy.',\n",
       "  'Broadened my knowledge of astrophysics.',\n",
       "  'Why did you take this course?',\n",
       "  'Core requirement',\n",
       "  '0 / 0%',\n",
       "  'Instructor Reputation',\n",
       "  '0 / 0%',\n",
       "  'Faculty member recommended it',\n",
       "  '0 / 0%',\n",
       "  'Concentration Requirement',\n",
       "  '0 / 0%',\n",
       "  'Meets at a convenient time',\n",
       "  '0 / 0%',\n",
       "  'A student recommended it',\n",
       "  '0 / 0%',\n",
       "  'Topic interests me',\n",
       "  '0 / 0%',\n",
       "  'Concentration elective',\n",
       "  '0 / 0%',\n",
       "  'In summary, I had a strong desire to take this course',\n",
       "  'Strongly Agree',\n",
       "  '7 / 88%',\n",
       "  'Agree',\n",
       "  '0 / 0%',\n",
       "  'Neutral',\n",
       "  '0 / 0%',\n",
       "  'Disagree',\n",
       "  '0 / 0%',\n",
       "  'Strongly Disagree',\n",
       "  '0 / 0%',\n",
       "  'How many hours per week did you spend on this course?',\n",
       "  'Low Answer 5',\n",
       "  'Average Answer 7',\n",
       "  'High Answer 9',\n",
       "  'What proportion of classes did you attend?',\n",
       "  'All',\n",
       "  '8 / 100%',\n",
       "  '75%',\n",
       "  '0 / 0%',\n",
       "  '50%',\n",
       "  '0 / 0%',\n",
       "  '25%',\n",
       "  '0 / 0%',\n",
       "  'None',\n",
       "  '0 / 0%',\n",
       "  'Were the time demands of this course reasonable?',\n",
       "  'Yes',\n",
       "  '8 / 100%',\n",
       "  'No',\n",
       "  '0 / 0%',\n",
       "  'The Instructor',\n",
       "  '  N/A Strongly Disagree Disagree Neutral Agree Strongly Agree',\n",
       "  'Organized the course clearly. 0% 0% 0% 0% 25% 75%',\n",
       "  'Presented clear lectures. 0% 0% 0% 13% 0% 88%',\n",
       "  'Held my attention and made this course interesting. 0% 0% 0% 0% 13% 88%',\n",
       "  'Stimulated and facilitated questions and discussions. 0% 0% 0% 13% 13% 75%',\n",
       "  'Responded well to student questions. 0% 0% 0% 0% 13% 88%',\n",
       "  'Was available outside of class. 13% 0% 0% 13% 0% 88%',\n",
       "  'Was helpful during office hours. 63% 0% 0% 0% 0% 38%',\n",
       "  'Motivated independent thinking. 0% 0% 0% 0% 13% 88%',\n",
       "  'The Readings',\n",
       "  '  N/A Strongly Disagree Disagree Neutral Agree Strongly Agree',\n",
       "  'Fulfilled the objective of the course. 0% 0% 0% 25% 13% 63%',\n",
       "  'Were reasonable in number. 0% 0% 13% 13% 38% 38%',\n",
       "  'Were appropriately difficult. 0% 0% 25% 25% 38% 13%',\n",
       "  'Approximately how much of the reading did you do?',\n",
       "  '  N/A None 25% 50% 75% 100%',\n",
       "  '0% 0% 0% 0% 25% 13%',\n",
       "  'The Assignments',\n",
       "  '  N/A Strongly Disagree Disagree Neutral Agree Strongly Agree',\n",
       "  'How helpful were the lectures and discussions in preparing for exams and completing assignments? 0% 0% 0% 13% 38% 50%',\n",
       "  'How appropriately were the requirements of the course proportioned to course goals? 0% 0% 13% 13% 13% 63%',\n",
       "  'How well did the requirements contribute to the goals of the course? 0% 0% 0% 25% 13% 63%',\n",
       "  'How timely and useful was feedback on assignments and exams? 0% 0% 0% 0% 13% 88%',\n",
       "  'How fairly were the assignments graded? 0% 0% 0% 0% 25% 75%',\n",
       "  'Overall',\n",
       "  '  N/A Strongly Disagree Disagree Neutral Agree Strongly Agree',\n",
       "  'This course met my expectations. 0% 0% 0% 13% 13% 75%',\n",
       "  'This course provided me with new insight and knowledge. 0% 0% 0% 0% 13% 88%',\n",
       "  'This course provided me with useful skills. 0% 0% 0% 0% 13% 88%',\n",
       "  'The content of this course was presented at an appropriate level. 0% 0% 0% 13% 25% 63%',\n",
       "  'I put my best effort into this course. 0% 0% 0% 0% 13% 88%',\n",
       "  'The class had a high level of morale/enthusiasm. 0% 0% 0% 0% 25% 75%',\n",
       "  'The Teaching Assistant(s)',\n",
       "  '  N/A Strongly Disagree Disagree Neutral Agree Strongly Agree',\n",
       "  'Were available outside of class. 0% 0% 0% 0% 13% 88%',\n",
       "  'Were helpful with assignments. 0% 0% 0% 0% 13% 88%',\n",
       "  'Discussion Sections, Problem Sessions, Writing Tutorials',\n",
       "  '  N/A Strongly Disagree Disagree Neutral Agree Strongly Agree',\n",
       "  'Were well coordinated with this course and contributed to it. 63% 0% 0% 0% 0% 25%',\n",
       "  'Provided well-designed materials. 63% 0% 0% 0% 0% 25%',\n",
       "  '  © The University of Chicago',\n",
       "  'Class Schedules and Registration',\n",
       "  '5801 South Ellis',\n",
       "  'Chicago, IL 60637',\n",
       "  '773.702.1234']}"
      ]
     },
     "execution_count": 112,
     "metadata": {},
     "output_type": "execute_result"
    }
   ],
   "source": [
    "response_dict"
   ]
  },
  {
   "cell_type": "code",
   "execution_count": 106,
   "metadata": {},
   "outputs": [
    {
     "name": "stdout",
     "output_type": "stream",
     "text": [
      "/bin/sh: 1: q_indicator: not found\r\n"
     ]
    }
   ],
   "source": [
    "q_indicator"
   ]
  }
 ],
 "metadata": {
  "kernelspec": {
   "display_name": "Python 3",
   "language": "python",
   "name": "python3"
  },
  "language_info": {
   "codemirror_mode": {
    "name": "ipython",
    "version": 3
   },
   "file_extension": ".py",
   "mimetype": "text/x-python",
   "name": "python",
   "nbconvert_exporter": "python",
   "pygments_lexer": "ipython3",
   "version": "3.5.2"
  }
 },
 "nbformat": 4,
 "nbformat_minor": 2
}
