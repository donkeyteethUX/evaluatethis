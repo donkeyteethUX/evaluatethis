{
 "cells": [
  {
   "cell_type": "code",
   "execution_count": 7,
   "metadata": {
    "collapsed": true
   },
   "outputs": [],
   "source": [
    "import courses"
   ]
  },
  {
   "cell_type": "code",
   "execution_count": 8,
   "metadata": {
    "collapsed": true
   },
   "outputs": [],
   "source": [
    "args = {'prof_fn':'Rina', 'prof_ln':'Barber'}"
   ]
  },
  {
   "cell_type": "code",
   "execution_count": 17,
   "metadata": {
    "collapsed": true
   },
   "outputs": [],
   "source": [
    "lol = courses.find_courses(args)"
   ]
  },
  {
   "cell_type": "code",
   "execution_count": 6,
   "metadata": {
    "collapsed": true
   },
   "outputs": [],
   "source": [
    "import pandas as pd\n",
    "import courses"
   ]
  },
  {
   "cell_type": "code",
   "execution_count": 4,
   "metadata": {
    "collapsed": true
   },
   "outputs": [],
   "source": [
    "args = {'dept':'STAT', 'course_num':'24400'}"
   ]
  },
  {
   "cell_type": "code",
   "execution_count": 7,
   "metadata": {},
   "outputs": [],
   "source": [
    "course_df, dept_df = courses.find_courses(args)"
   ]
  },
  {
   "cell_type": "code",
   "execution_count": 24,
   "metadata": {},
   "outputs": [
    {
     "data": {
      "text/plain": [
       "0.15384615384615385"
      ]
     },
     "execution_count": 24,
     "metadata": {},
     "output_type": "execute_result"
    }
   ],
   "source": [
    "pd.factorize(lol[0].would_recommend)[0].mean()"
   ]
  },
  {
   "cell_type": "code",
   "execution_count": null,
   "metadata": {
    "collapsed": true
   },
   "outputs": [],
   "source": [
    "def display_dyadic_partitioning(args_from_ui):\n",
    "    if len(args_from_ui) == 2:\n",
    "        if 'prof_fn' in args_from_ui and 'prof_ln' in args_from_ui:\n",
    "            prof_display(args_from_ui)\n",
    "            \n",
    "        elif 'dept' in args_from_ui:\n",
    "            course_display(args_from_ui)\n",
    "\n",
    "    else:\n",
    "        course_and_prof_display(args_from_ui)\n",
    "\n",
    "def course_display(args_from_ui):\n",
    "    if \"course_num\" in args_from_ui:\n",
    "        course_name = args_from_ui['dept'] + \" \" + args_from_ui['course_num']\n",
    "    elif \"course_name\" in args_from_ui:\n",
    "        course_name = args_from_ui['dept'] + \" \" + args_from_ui['course_name']\n",
    "    course_df, dept_df = courses.find_courses(args_from_ui)\n",
    "    would_recommend = 1 - pd.factorize(course_df.would_recommend).mean()\n",
    "    would_like_inst = 1 - pd.factorize(course_df.would_like_inst).mean()\n",
    "    would_recommend_str = \"{:.2%}\".format(would_recommend) + \" of classes of \" + course_name + \" would recommend it.\"\n",
    "    would_like_str = \"{:.2%}\".format(would_like_inst) + ' of classes of' + course_name + ' classes felt positively about their instructor.'\n",
    "    return would_recommend_str, would_like_str\n",
    "\n",
    "def prof_display(args_from_ui):\n",
    "    prof_name = args_from_ui['prof_fn'] + \" \" + args_from_ui['prof_ln']\n",
    "    prof_df, dept_df, primary_dept = courses.find_courses(args_from_ui)\n",
    "    would_recommend = 1 - pd.factorize(prof_df.would_recommend).mean()\n",
    "    would_like_inst = 1 - pd.factorize(prof_df.would_like_inst).mean()\n",
    "    would_recommend_str = \"{:.2%}\".format(would_recommend) + \" of classes taught by \" + prof_name + \" would recommend it overall.\"\n",
    "    would_like_str = \"{:.2%}\".format(would_like_inst) + ' of classes taught by ' + prof_name + ' classes felt positively about their instructor.'\n",
    "    return would_recommend_str, would_like_str\n",
    "\n",
    "def course_and_prof_display(args_from_ui):\n",
    "    course_and_prof_df, dept_df, course_df, prof_df = courses.find_courses(args_from_ui)\n",
    "    prof_name = args_from_ui['prof_fn'] + \" \" + args_from_ui['prof_ln']\n",
    "    would_recommend = 1 - pd.factorize(course_and_prof_df.would_recommend).mean()\n",
    "    would_like_inst = 1 - pd.factorize(course_and_prof_df.would_like_inst).mean()\n",
    "    would_recommend_str = \"{:.2%}\".format(would_recommend) + \" of \" + course_name + \" classes taught by \" + prof_name + \" would recommend it overall.\"\n",
    "    would_like_str = \"{:.2%}\".format(would_like_inst) + \" of \" + course_name + \" classes taught by \" + prof_name + ' felt positively about their instructor.'\n",
    "    return would_recommend_str, would_like_str"
   ]
  },
  {
   "cell_type": "code",
   "execution_count": 3,
   "metadata": {},
   "outputs": [
    {
     "data": {
      "text/plain": [
       "'23.5%'"
      ]
     },
     "execution_count": 3,
     "metadata": {},
     "output_type": "execute_result"
    }
   ],
   "source": []
  }
 ],
 "metadata": {
  "kernelspec": {
   "display_name": "Python 3",
   "language": "python",
   "name": "python3"
  },
  "language_info": {
   "codemirror_mode": {
    "name": "ipython",
    "version": 3
   },
   "file_extension": ".py",
   "mimetype": "text/x-python",
   "name": "python",
   "nbconvert_exporter": "python",
   "pygments_lexer": "ipython3",
   "version": "3.6.3"
  }
 },
 "nbformat": 4,
 "nbformat_minor": 2
}
