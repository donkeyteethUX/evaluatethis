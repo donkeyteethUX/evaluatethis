{
 "cells": [
  {
   "cell_type": "code",
   "execution_count": 24,
   "metadata": {
    "collapsed": true
   },
   "outputs": [],
   "source": [
    "import courses\n",
    "import pandas as pd\n",
    "import numpy as np\n",
    "import matplotlib.pyplot as plt"
   ]
  },
  {
   "cell_type": "code",
   "execution_count": 78,
   "metadata": {
    "collapsed": true
   },
   "outputs": [],
   "source": [
    "args = {\"prof_fn\":\"Cheng\", \"prof_ln\":\"Chin\"}"
   ]
  },
  {
   "cell_type": "markdown",
   "metadata": {},
   "source": [
    "each bar is actually one of the entries in the list  \n",
    "which means that weirdly enough i need to itercolumns or something?"
   ]
  },
  {
   "cell_type": "code",
   "execution_count": 101,
   "metadata": {
    "collapsed": true
   },
   "outputs": [],
   "source": [
    "def df_maker(args_from_ui, sentiment_or_score, graph_type):\n",
    "    '''\n",
    "    Where graph_type is \"prof\" or \"course\"\n",
    "    '''\n",
    "    prof_df, dept_df, dept = courses.find_courses(args_from_ui)\n",
    "    small_df, year = get_small_df(prof_df, graph_type)\n",
    "    small_df.dropna(axis = (1), how = \"all\", inplace = True)\n",
    "    if sentiment_or_score == \"sentiment\":\n",
    "        columns_not_to_graph = ['course_id', \n",
    "                                'low_time', \n",
    "                                'avg_time', \n",
    "                                'high_time', \n",
    "                                'fn', \n",
    "                                'ln', \n",
    "                                'year', \n",
    "                                'num_responses', \n",
    "                                'prof_score', \n",
    "                                'ass_score', \n",
    "                                'test_score']\n",
    "    if sentiment_or_score == \"score\":\n",
    "        columns_not_to_graph = ['course_id', \n",
    "                                'low_time', \n",
    "                                'avg_time', \n",
    "                                'high_time', \n",
    "                                'fn', \n",
    "                                'ln', \n",
    "                                'year', \n",
    "                                'num_responses', \n",
    "                                'inst_sentiment', \n",
    "                                'course_sentiment']\n",
    "    columns = list(small_df.columns)\n",
    "    graph_columns = list(set(columns).difference(columns_not_to_graph))\n",
    "    small_df = small_df[graph_columns]\n",
    "\n",
    "    #first get the average of scores\n",
    "    continuous_df = small_df.groupby(['course']).mean()\n",
    "    compare_to_dept_columns = list(continuous_df.columns)\n",
    "    dept_df = dept_df[compare_to_dept_columns].mean()\n",
    "    dept_df.rename(index = dept, inplace = True)\n",
    "    continuous_df = continuous_df.append(dept_df)\n",
    "    \n",
    "    return continuous_df"
   ]
  },
  {
   "cell_type": "code",
   "execution_count": 99,
   "metadata": {
    "collapsed": true
   },
   "outputs": [],
   "source": [
    "def prof_score_graph(args_from_ui):\n",
    "    continuous_df = df_maker(args_from_ui, \"score\", \"prof\")\n",
    "    graph_from_df(continuous_df)\n",
    "    \n",
    "def prof_sentiment_graph(args_from_ui):\n",
    "    continuous_df = df_maker(args_from_ui, \"sentiment\", \"prof\")\n",
    "    graph_from_df(continuous_df)\n",
    "    \n",
    "def course_sentiment_graph(args_from_ui):\n",
    "    continuous_df = df_maker(args_from_ui, \"sentiment\", \"course\")\n",
    "    graph_from_df(continuous_df)\n",
    "    \n",
    "def course_score_graph(args_from_ui):\n",
    "    continuous_df = df_maker(args_from_ui, \"score\", \"course\")\n",
    "    graph_from_df(continuous_df)\n",
    "\n",
    "def graph_from_df(continuous_df):\n",
    "    n = continuous_df.shape[0]\n",
    "    ind = np.arange(n)\n",
    "    width = 0.1  \n",
    "    offset = 0\n",
    "    plt.figure(figsize = (20, 7))\n",
    "    bars = []\n",
    "    for column in continuous_df:\n",
    "        bar = plt.bar(x = ind - (offset * width), width=width, height=continuous_df[column])\n",
    "        offset += 1\n",
    "        bars.append(bar)\n",
    "    xnames = list(continuous_df.axes[0])\n",
    "    plt.xticks(ind, xnames, rotation = 20, fontsize = 10, ha = 'right')\n",
    "    plt.legend(bars, continuous_df.axes[1])\n",
    "    plt.show()\n",
    "\n",
    "    \n",
    "def get_small_df(dataframe, prof_or_course):\n",
    "    current_year = 2018\n",
    "    timespan = 5\n",
    "    if prof_or_course == \"prof\":\n",
    "        while dataframe.course.unique().shape[0] > 10:\n",
    "            timespan -= 1\n",
    "            dataframe = dataframe[dataframe.year >= current_year - timespan]\n",
    "        dataframe = dataframe.groupby(['course']).mean()\n",
    "\n",
    "    if prof_or_course == \"course\":\n",
    "        while dataframe.groupby(['fn', 'ln']).mean().shape[0] > 10:\n",
    "            timespan -= 1\n",
    "            dataframe = dataframe[dataframe.year >= current_year - timespan]\n",
    "        dataframe = dataframe.groupby(['fn', 'ln']).mean()\n",
    "\n",
    "\n",
    "    return dataframe, current_year - timespan"
   ]
  },
  {
   "cell_type": "code",
   "execution_count": 96,
   "metadata": {
    "collapsed": true
   },
   "outputs": [],
   "source": [
    "def more_prof_graphs(args_from_ui):\n",
    "    prof_score_graph(args_from_ui)\n",
    "    prof_sentiment_graph(args_from_ui)"
   ]
  },
  {
   "cell_type": "code",
   "execution_count": 97,
   "metadata": {},
   "outputs": [
    {
     "name": "stdout",
     "output_type": "stream",
     "text": [
      "PHYS\n"
     ]
    },
    {
     "data": {
      "image/png": "[encoded data removed]",
      "text/plain": [
       "<matplotlib.figure.Figure at 0x114218128>"
      ]
     },
     "metadata": {},
     "output_type": "display_data"
    },
    {
     "name": "stdout",
     "output_type": "stream",
     "text": [
      "PHYS\n"
     ]
    },
    {
     "data": {
      "image/png": "[encoded data removed]",
      "text/plain": [
       "<matplotlib.figure.Figure at 0x10e32ec50>"
      ]
     },
     "metadata": {},
     "output_type": "display_data"
    }
   ],
   "source": [
    "more_prof_graphs(args)"
   ]
  },
  {
   "cell_type": "code",
   "execution_count": 98,
   "metadata": {
    "collapsed": true
   },
   "outputs": [],
   "source": [
    "args = {\"dept\":\"STAT\", \"course_num\":\"25100\"}"
   ]
  },
  {
   "cell_type": "code",
   "execution_count": 6,
   "metadata": {
    "collapsed": true
   },
   "outputs": [],
   "source": [
    "bro = courses.find_courses(args)"
   ]
  },
  {
   "cell_type": "code",
   "execution_count": 7,
   "metadata": {},
   "outputs": [
    {
     "data": {
      "text/plain": [
       "3"
      ]
     },
     "execution_count": 7,
     "metadata": {},
     "output_type": "execute_result"
    }
   ],
   "source": [
    "len(bro)"
   ]
  },
  {
   "cell_type": "code",
   "execution_count": 8,
   "metadata": {
    "collapsed": true
   },
   "outputs": [],
   "source": [
    "brah, lol, breh = bro"
   ]
  },
  {
   "cell_type": "code",
   "execution_count": 177,
   "metadata": {},
   "outputs": [],
   "source": [
    "def course_and_prof_score_df_maker(args_from_ui):\n",
    "    '''\n",
    "    If the user searches by course and professor, this code will produce a graph that compares the scores \n",
    "    for this professor averaged over every time they taught the course, the time demands made by\n",
    "    other professors who  have taught this course, departmental average time demands, and this professor's average\n",
    "    time demands.\n",
    "    '''\n",
    "    dept = args_from_ui['dept']\n",
    "    prof = args_from_ui['prof_fn'] + \" \" + args_from_ui['prof_ln']\n",
    "    course = dept + \" \" + args_from_ui['course_num']\n",
    "    course_and_prof =  course + \" taught by \" + prof\n",
    "    course_and_prof_df, dept_df, course_df, prof_df = courses.find_courses(args_from_ui)\n",
    "    course_and_prof_df = course_and_prof_df.mean().to_frame()\n",
    "    dept_df = dept_df.mean()\n",
    "    course_df = course_df.mean()\n",
    "    prof_df = prof_df.mean()\n",
    "    scores_df = pd.concat([course_and_prof_df, dept_df, course_df, prof_df], axis = 1)\n",
    "    scores_df.columns = [course_and_prof, dept, course, prof]\n",
    "    scores_df = scores_df.dropna(how = \"all\", axis = 0)\n",
    "    return scores_df"
   ]
  },
  {
   "cell_type": "code",
   "execution_count": 258,
   "metadata": {},
   "outputs": [],
   "source": [
    "def columns_to_graph(course_and_prof_df, sentiment_or_score):\n",
    "    course_and_prof_df = course_and_prof_df.transpose()\n",
    "    columns_not_to_graph = ['num_recommend', \n",
    "                            'num_dont_recommend', \n",
    "                            'good_inst', \n",
    "                            'bad_inst']\n",
    "    if sentiment_or_score == \"sentiment\":\n",
    "        columns_not_to_graph += ['course_id', \n",
    "                                'low_time', \n",
    "                                'avg_time', \n",
    "                                'high_time', \n",
    "                                'fn', \n",
    "                                'ln', \n",
    "                                'year', \n",
    "                                'num_responses', \n",
    "                                'prof_score', \n",
    "                                'ass_score', \n",
    "                                'test_score',\n",
    "                                'over_score',\n",
    "                                'read_score']\n",
    "    if sentiment_or_score == \"score\":\n",
    "        columns_not_to_graph += ['course_id', \n",
    "                                'low_time', \n",
    "                                'avg_time', \n",
    "                                'high_time', \n",
    "                                'fn', \n",
    "                                'ln', \n",
    "                                'year', \n",
    "                                'num_responses', \n",
    "                                'inst_sentiment', \n",
    "                                'course_sentiment']\n",
    "    columns = list(course_and_prof_df.columns)\n",
    "    graph_columns = list(set(columns).difference(columns_not_to_graph))\n",
    "    course_and_prof_df = course_and_prof_df[graph_columns]\n",
    "    return course_and_prof_df\n",
    "    \n",
    "def graph_from_df(continuous_df):\n",
    "    n = continuous_df.shape[0]\n",
    "    ind = np.arange(n)\n",
    "    width = 0.1  \n",
    "    offset = 0\n",
    "    plt.figure(figsize = (20, 7))\n",
    "    bars = []\n",
    "    for column in continuous_df:\n",
    "        bar = plt.bar(x = ind - (offset * width), width=width, height=continuous_df[column])\n",
    "        offset += 1\n",
    "        bars.append(bar)\n",
    "    xnames = list(continuous_df.axes[0])\n",
    "    plt.xticks(ind, xnames, rotation = 10, fontsize = 10, ha = 'right')\n",
    "    plt.legend(bars, continuous_df.axes[1])\n",
    "    return plt"
   ]
  },
  {
   "cell_type": "code",
   "execution_count": 255,
   "metadata": {},
   "outputs": [],
   "source": [
    "lol = course_and_prof_score_df_maker(args)"
   ]
  },
  {
   "cell_type": "code",
   "execution_count": 256,
   "metadata": {
    "collapsed": true
   },
   "outputs": [],
   "source": [
    "lol = columns_to_graph(lol, 'score')"
   ]
  },
  {
   "cell_type": "code",
   "execution_count": 252,
   "metadata": {},
   "outputs": [
    {
     "data": {
      "text/plain": [
       "Index(['STAT 24400 taught by Rina Barber', 'STAT', 'STAT 24400',\n",
       "       'Rina Barber'],\n",
       "      dtype='object')"
      ]
     },
     "execution_count": 252,
     "metadata": {},
     "output_type": "execute_result"
    }
   ],
   "source": [
    "lol.axes[0]"
   ]
  },
  {
   "cell_type": "code",
   "execution_count": 261,
   "metadata": {},
   "outputs": [
    {
     "data": {
      "image/png": "[encoded data removed]",
      "text/plain": [
       "<matplotlib.figure.Figure at 0x1124ed4e0>"
      ]
     },
     "metadata": {},
     "output_type": "display_data"
    }
   ],
   "source": [
    "graph_from_df(lol).show()"
   ]
  }
 ],
 "metadata": {
  "kernelspec": {
   "display_name": "Python 3",
   "language": "python",
   "name": "python3"
  },
  "language_info": {
   "codemirror_mode": {
    "name": "ipython",
    "version": 3
   },
   "file_extension": ".py",
   "mimetype": "text/x-python",
   "name": "python",
   "nbconvert_exporter": "python",
   "pygments_lexer": "ipython3",
   "version": "3.6.3"
  }
 },
 "nbformat": 4,
 "nbformat_minor": 2
}
