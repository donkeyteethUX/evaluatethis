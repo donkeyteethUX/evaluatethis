{
 "cells": [
  {
   "cell_type": "code",
   "execution_count": 45,
   "metadata": {
    "collapsed": true
   },
   "outputs": [],
   "source": [
    "import matplotlib.pyplot as plt\n",
    "import matplotlib.patches as patches\n",
    "x = [.1, .2, .4, .1, .3, .5]\n",
    "y = [.2, .3, .4, .2, .2, .1]\n",
    "\n",
    "def plot_w_box(u_left, l_right, x, y):\n",
    "    fig = plt.figure()\n",
    "    ax = fig.add_subplot(111)\n",
    "    ax.set_xlim(min(x) - 1, max(x) + 1)\n",
    "    ax.set_ylim(min(y) - 1, max(y) + 1)\n",
    "    ax.scatter(x, y)\n",
    "    u_x, u_y = u_left\n",
    "    l_x, l_y = l_right\n",
    "    lower_left_y = l_y\n",
    "    lower_left_x = u_x\n",
    "    width = l_x - u_x\n",
    "    height = u_y - l_y\n",
    "    rect = patches.Rectangle((l_y, u_x), width, height, alpha = .2, edgecolor = \"red\", lw = 3)\n",
    "    ax.add_patch(rect)\n",
    "    plt.show()\n"
   ]
  },
  {
   "cell_type": "code",
   "execution_count": 46,
   "metadata": {},
   "outputs": [
    {
     "data": {
      "image/png": "[encoded data removed]",
      "text/plain": [
       "<matplotlib.figure.Figure at 0x10a06b518>"
      ]
     },
     "metadata": {},
     "output_type": "display_data"
    }
   ],
   "source": [
    "plot_w_box((.2, .3), (4, .05), x, y)"
   ]
  }
 ],
 "metadata": {
  "kernelspec": {
   "display_name": "Python 3",
   "language": "python",
   "name": "python3"
  },
  "language_info": {
   "codemirror_mode": {
    "name": "ipython",
    "version": 3
   },
   "file_extension": ".py",
   "mimetype": "text/x-python",
   "name": "python",
   "nbconvert_exporter": "python",
   "pygments_lexer": "ipython3",
   "version": "3.6.3"
  }
 },
 "nbformat": 4,
 "nbformat_minor": 2
}
